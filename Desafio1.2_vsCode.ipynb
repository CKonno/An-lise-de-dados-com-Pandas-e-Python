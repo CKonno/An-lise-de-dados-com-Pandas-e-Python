{
 "cells": [
  {
   "cell_type": "code",
   "execution_count": 1,
   "metadata": {},
   "outputs": [],
   "source": [
    "import pandas as pd"
   ]
  },
  {
   "cell_type": "code",
   "execution_count": 2,
   "metadata": {},
   "outputs": [],
   "source": [
    "df1 = pd.read_excel(\"Aracaju.xlsx\")\n",
    "df2 = pd.read_excel(\"Fortaleza.xlsx\")\n",
    "df3 = pd.read_excel(\"Natal.xlsx\")\n",
    "df4 = pd.read_excel(\"Recife.xlsx\")\n",
    "df5 = pd.read_excel(\"Salvador.xlsx\")"
   ]
  },
  {
   "cell_type": "code",
   "execution_count": 3,
   "metadata": {},
   "outputs": [],
   "source": [
    "#Concat coloca um arquivo embaixo do outro\n",
    "df = pd.concat([df1,df2,df3,df4,df5])"
   ]
  },
  {
   "cell_type": "code",
   "execution_count": 4,
   "metadata": {},
   "outputs": [
    {
     "data": {
      "text/html": [
       "<div>\n",
       "<style scoped>\n",
       "    .dataframe tbody tr th:only-of-type {\n",
       "        vertical-align: middle;\n",
       "    }\n",
       "\n",
       "    .dataframe tbody tr th {\n",
       "        vertical-align: top;\n",
       "    }\n",
       "\n",
       "    .dataframe thead th {\n",
       "        text-align: right;\n",
       "    }\n",
       "</style>\n",
       "<table border=\"1\" class=\"dataframe\">\n",
       "  <thead>\n",
       "    <tr style=\"text-align: right;\">\n",
       "      <th></th>\n",
       "      <th>Cidade</th>\n",
       "      <th>Data</th>\n",
       "      <th>Vendas</th>\n",
       "      <th>LojaID</th>\n",
       "      <th>Qtde</th>\n",
       "    </tr>\n",
       "  </thead>\n",
       "  <tbody>\n",
       "    <tr>\n",
       "      <th>0</th>\n",
       "      <td>Aracaju</td>\n",
       "      <td>2018-01-01</td>\n",
       "      <td>142.00</td>\n",
       "      <td>1520</td>\n",
       "      <td>1</td>\n",
       "    </tr>\n",
       "    <tr>\n",
       "      <th>1</th>\n",
       "      <td>Aracaju</td>\n",
       "      <td>2018-01-01</td>\n",
       "      <td>14.21</td>\n",
       "      <td>1522</td>\n",
       "      <td>6</td>\n",
       "    </tr>\n",
       "    <tr>\n",
       "      <th>2</th>\n",
       "      <td>Aracaju</td>\n",
       "      <td>2018-01-01</td>\n",
       "      <td>71.55</td>\n",
       "      <td>1520</td>\n",
       "      <td>1</td>\n",
       "    </tr>\n",
       "    <tr>\n",
       "      <th>3</th>\n",
       "      <td>Aracaju</td>\n",
       "      <td>2018-01-01</td>\n",
       "      <td>3.01</td>\n",
       "      <td>1521</td>\n",
       "      <td>7</td>\n",
       "    </tr>\n",
       "    <tr>\n",
       "      <th>4</th>\n",
       "      <td>Aracaju</td>\n",
       "      <td>2018-01-01</td>\n",
       "      <td>24.51</td>\n",
       "      <td>1522</td>\n",
       "      <td>8</td>\n",
       "    </tr>\n",
       "  </tbody>\n",
       "</table>\n",
       "</div>"
      ],
      "text/plain": [
       "    Cidade       Data  Vendas  LojaID  Qtde\n",
       "0  Aracaju 2018-01-01  142.00    1520     1\n",
       "1  Aracaju 2018-01-01   14.21    1522     6\n",
       "2  Aracaju 2018-01-01   71.55    1520     1\n",
       "3  Aracaju 2018-01-01    3.01    1521     7\n",
       "4  Aracaju 2018-01-01   24.51    1522     8"
      ]
     },
     "execution_count": 4,
     "metadata": {},
     "output_type": "execute_result"
    }
   ],
   "source": [
    "df.head()"
   ]
  },
  {
   "cell_type": "code",
   "execution_count": 5,
   "metadata": {},
   "outputs": [
    {
     "data": {
      "text/html": [
       "<div>\n",
       "<style scoped>\n",
       "    .dataframe tbody tr th:only-of-type {\n",
       "        vertical-align: middle;\n",
       "    }\n",
       "\n",
       "    .dataframe tbody tr th {\n",
       "        vertical-align: top;\n",
       "    }\n",
       "\n",
       "    .dataframe thead th {\n",
       "        text-align: right;\n",
       "    }\n",
       "</style>\n",
       "<table border=\"1\" class=\"dataframe\">\n",
       "  <thead>\n",
       "    <tr style=\"text-align: right;\">\n",
       "      <th></th>\n",
       "      <th>Cidade</th>\n",
       "      <th>Data</th>\n",
       "      <th>Vendas</th>\n",
       "      <th>LojaID</th>\n",
       "      <th>Qtde</th>\n",
       "    </tr>\n",
       "  </thead>\n",
       "  <tbody>\n",
       "    <tr>\n",
       "      <th>235</th>\n",
       "      <td>Salvador</td>\n",
       "      <td>2019-01-03</td>\n",
       "      <td>41.84</td>\n",
       "      <td>1034</td>\n",
       "      <td>1</td>\n",
       "    </tr>\n",
       "    <tr>\n",
       "      <th>236</th>\n",
       "      <td>Salvador</td>\n",
       "      <td>2019-01-03</td>\n",
       "      <td>126.29</td>\n",
       "      <td>1035</td>\n",
       "      <td>3</td>\n",
       "    </tr>\n",
       "    <tr>\n",
       "      <th>237</th>\n",
       "      <td>Salvador</td>\n",
       "      <td>2019-01-03</td>\n",
       "      <td>38.06</td>\n",
       "      <td>1036</td>\n",
       "      <td>3</td>\n",
       "    </tr>\n",
       "    <tr>\n",
       "      <th>238</th>\n",
       "      <td>Salvador</td>\n",
       "      <td>2019-01-03</td>\n",
       "      <td>139.64</td>\n",
       "      <td>1035</td>\n",
       "      <td>1</td>\n",
       "    </tr>\n",
       "    <tr>\n",
       "      <th>239</th>\n",
       "      <td>Salvador</td>\n",
       "      <td>2019-01-03</td>\n",
       "      <td>161.41</td>\n",
       "      <td>1037</td>\n",
       "      <td>3</td>\n",
       "    </tr>\n",
       "  </tbody>\n",
       "</table>\n",
       "</div>"
      ],
      "text/plain": [
       "       Cidade       Data  Vendas  LojaID  Qtde\n",
       "235  Salvador 2019-01-03   41.84    1034     1\n",
       "236  Salvador 2019-01-03  126.29    1035     3\n",
       "237  Salvador 2019-01-03   38.06    1036     3\n",
       "238  Salvador 2019-01-03  139.64    1035     1\n",
       "239  Salvador 2019-01-03  161.41    1037     3"
      ]
     },
     "execution_count": 5,
     "metadata": {},
     "output_type": "execute_result"
    }
   ],
   "source": [
    "df.tail()"
   ]
  },
  {
   "cell_type": "code",
   "execution_count": 7,
   "metadata": {},
   "outputs": [
    {
     "data": {
      "text/html": [
       "<div>\n",
       "<style scoped>\n",
       "    .dataframe tbody tr th:only-of-type {\n",
       "        vertical-align: middle;\n",
       "    }\n",
       "\n",
       "    .dataframe tbody tr th {\n",
       "        vertical-align: top;\n",
       "    }\n",
       "\n",
       "    .dataframe thead th {\n",
       "        text-align: right;\n",
       "    }\n",
       "</style>\n",
       "<table border=\"1\" class=\"dataframe\">\n",
       "  <thead>\n",
       "    <tr style=\"text-align: right;\">\n",
       "      <th></th>\n",
       "      <th>Cidade</th>\n",
       "      <th>Data</th>\n",
       "      <th>Vendas</th>\n",
       "      <th>LojaID</th>\n",
       "      <th>Qtde</th>\n",
       "    </tr>\n",
       "  </thead>\n",
       "  <tbody>\n",
       "    <tr>\n",
       "      <th>74</th>\n",
       "      <td>Salvador</td>\n",
       "      <td>2019-01-01</td>\n",
       "      <td>170.53</td>\n",
       "      <td>1035</td>\n",
       "      <td>2</td>\n",
       "    </tr>\n",
       "    <tr>\n",
       "      <th>98</th>\n",
       "      <td>Fortaleza</td>\n",
       "      <td>2019-01-01</td>\n",
       "      <td>15.00</td>\n",
       "      <td>1005</td>\n",
       "      <td>2</td>\n",
       "    </tr>\n",
       "    <tr>\n",
       "      <th>114</th>\n",
       "      <td>Salvador</td>\n",
       "      <td>2019-03-02</td>\n",
       "      <td>25.52</td>\n",
       "      <td>1034</td>\n",
       "      <td>1</td>\n",
       "    </tr>\n",
       "    <tr>\n",
       "      <th>48</th>\n",
       "      <td>Aracaju</td>\n",
       "      <td>2018-01-01</td>\n",
       "      <td>35.90</td>\n",
       "      <td>1521</td>\n",
       "      <td>8</td>\n",
       "    </tr>\n",
       "    <tr>\n",
       "      <th>43</th>\n",
       "      <td>Recife</td>\n",
       "      <td>2019-01-01</td>\n",
       "      <td>22.29</td>\n",
       "      <td>983</td>\n",
       "      <td>7</td>\n",
       "    </tr>\n",
       "  </tbody>\n",
       "</table>\n",
       "</div>"
      ],
      "text/plain": [
       "        Cidade       Data  Vendas  LojaID  Qtde\n",
       "74    Salvador 2019-01-01  170.53    1035     2\n",
       "98   Fortaleza 2019-01-01   15.00    1005     2\n",
       "114   Salvador 2019-03-02   25.52    1034     1\n",
       "48     Aracaju 2018-01-01   35.90    1521     8\n",
       "43      Recife 2019-01-01   22.29     983     7"
      ]
     },
     "execution_count": 7,
     "metadata": {},
     "output_type": "execute_result"
    }
   ],
   "source": [
    "#Pegando uma amostra do banco de dados\n",
    "df.sample(5)"
   ]
  },
  {
   "cell_type": "code",
   "execution_count": 9,
   "metadata": {},
   "outputs": [
    {
     "data": {
      "text/plain": [
       "Cidade            object\n",
       "Data      datetime64[ns]\n",
       "Vendas           float64\n",
       "LojaID             int64\n",
       "Qtde               int64\n",
       "dtype: object"
      ]
     },
     "execution_count": 9,
     "metadata": {},
     "output_type": "execute_result"
    }
   ],
   "source": [
    "df.dtypes"
   ]
  },
  {
   "cell_type": "code",
   "execution_count": 11,
   "metadata": {},
   "outputs": [
    {
     "data": {
      "text/plain": [
       "Cidade            object\n",
       "Data      datetime64[ns]\n",
       "Vendas           float64\n",
       "LojaID            object\n",
       "Qtde               int64\n",
       "dtype: object"
      ]
     },
     "execution_count": 11,
     "metadata": {},
     "output_type": "execute_result"
    }
   ],
   "source": [
    "#Alterando o formato dos dados de uma coluna\n",
    "df[\"LojaID\"] = df[\"LojaID\"].astype(\"object\")\n",
    "df.dtypes"
   ]
  },
  {
   "cell_type": "code",
   "execution_count": 12,
   "metadata": {},
   "outputs": [
    {
     "data": {
      "text/plain": [
       "Cidade    0\n",
       "Data      0\n",
       "Vendas    0\n",
       "LojaID    0\n",
       "Qtde      0\n",
       "dtype: int64"
      ]
     },
     "execution_count": 12,
     "metadata": {},
     "output_type": "execute_result"
    }
   ],
   "source": [
    "#Verificando se há valores nulos\n",
    "df.isnull().sum()"
   ]
  },
  {
   "cell_type": "code",
   "execution_count": 13,
   "metadata": {},
   "outputs": [],
   "source": [
    "#Substituindo os valores nulos pela média (pega a média de vendas e substitui onde está vazio)\n",
    "#inplace - valor é substituído e salvo em memória e não só nesta linha de código\n",
    "df[\"Vendas\"].fillna(df[\"Vendas\"].mean(), inplace = True)"
   ]
  },
  {
   "cell_type": "code",
   "execution_count": null,
   "metadata": {},
   "outputs": [],
   "source": [
    "#Substituindo os valores nulos por zero\n",
    "df[\"Vendas\"].fillna(0, inplace = True)"
   ]
  },
  {
   "cell_type": "code",
   "execution_count": 14,
   "metadata": {},
   "outputs": [],
   "source": [
    "#Apagando linhas com valores nulos\n",
    "df.dropna(inplace = True)"
   ]
  },
  {
   "cell_type": "code",
   "execution_count": 15,
   "metadata": {},
   "outputs": [],
   "source": [
    "#Apagando linhas com valores nulos com base nos valores de venda\n",
    "df.dropna(subset=[\"Vendas\"], inplace = True)"
   ]
  },
  {
   "cell_type": "code",
   "execution_count": 17,
   "metadata": {},
   "outputs": [],
   "source": [
    "#Removendo linhas que estão com valores faltantes em todas as colunas\n",
    "df.dropna(how=\"all\", inplace = True)"
   ]
  },
  {
   "cell_type": "code",
   "execution_count": 19,
   "metadata": {},
   "outputs": [
    {
     "data": {
      "text/html": [
       "<div>\n",
       "<style scoped>\n",
       "    .dataframe tbody tr th:only-of-type {\n",
       "        vertical-align: middle;\n",
       "    }\n",
       "\n",
       "    .dataframe tbody tr th {\n",
       "        vertical-align: top;\n",
       "    }\n",
       "\n",
       "    .dataframe thead th {\n",
       "        text-align: right;\n",
       "    }\n",
       "</style>\n",
       "<table border=\"1\" class=\"dataframe\">\n",
       "  <thead>\n",
       "    <tr style=\"text-align: right;\">\n",
       "      <th></th>\n",
       "      <th>Cidade</th>\n",
       "      <th>Data</th>\n",
       "      <th>Vendas</th>\n",
       "      <th>LojaID</th>\n",
       "      <th>Qtde</th>\n",
       "      <th>Receita</th>\n",
       "    </tr>\n",
       "  </thead>\n",
       "  <tbody>\n",
       "    <tr>\n",
       "      <th>0</th>\n",
       "      <td>Aracaju</td>\n",
       "      <td>2018-01-01</td>\n",
       "      <td>142.00</td>\n",
       "      <td>1520</td>\n",
       "      <td>1</td>\n",
       "      <td>142.00</td>\n",
       "    </tr>\n",
       "    <tr>\n",
       "      <th>1</th>\n",
       "      <td>Aracaju</td>\n",
       "      <td>2018-01-01</td>\n",
       "      <td>14.21</td>\n",
       "      <td>1522</td>\n",
       "      <td>6</td>\n",
       "      <td>85.26</td>\n",
       "    </tr>\n",
       "    <tr>\n",
       "      <th>2</th>\n",
       "      <td>Aracaju</td>\n",
       "      <td>2018-01-01</td>\n",
       "      <td>71.55</td>\n",
       "      <td>1520</td>\n",
       "      <td>1</td>\n",
       "      <td>71.55</td>\n",
       "    </tr>\n",
       "    <tr>\n",
       "      <th>3</th>\n",
       "      <td>Aracaju</td>\n",
       "      <td>2018-01-01</td>\n",
       "      <td>3.01</td>\n",
       "      <td>1521</td>\n",
       "      <td>7</td>\n",
       "      <td>21.07</td>\n",
       "    </tr>\n",
       "    <tr>\n",
       "      <th>4</th>\n",
       "      <td>Aracaju</td>\n",
       "      <td>2018-01-01</td>\n",
       "      <td>24.51</td>\n",
       "      <td>1522</td>\n",
       "      <td>8</td>\n",
       "      <td>196.08</td>\n",
       "    </tr>\n",
       "  </tbody>\n",
       "</table>\n",
       "</div>"
      ],
      "text/plain": [
       "    Cidade       Data  Vendas LojaID  Qtde  Receita\n",
       "0  Aracaju 2018-01-01  142.00   1520     1   142.00\n",
       "1  Aracaju 2018-01-01   14.21   1522     6    85.26\n",
       "2  Aracaju 2018-01-01   71.55   1520     1    71.55\n",
       "3  Aracaju 2018-01-01    3.01   1521     7    21.07\n",
       "4  Aracaju 2018-01-01   24.51   1522     8   196.08"
      ]
     },
     "execution_count": 19,
     "metadata": {},
     "output_type": "execute_result"
    }
   ],
   "source": [
    "#Crianco coluna nova (mul de multiplicação)\n",
    "df[\"Receita\"] = df[\"Vendas\"].mul(df[\"Qtde\"]) \n",
    "df.head()"
   ]
  },
  {
   "cell_type": "code",
   "execution_count": 20,
   "metadata": {},
   "outputs": [
    {
     "data": {
      "text/html": [
       "<div>\n",
       "<style scoped>\n",
       "    .dataframe tbody tr th:only-of-type {\n",
       "        vertical-align: middle;\n",
       "    }\n",
       "\n",
       "    .dataframe tbody tr th {\n",
       "        vertical-align: top;\n",
       "    }\n",
       "\n",
       "    .dataframe thead th {\n",
       "        text-align: right;\n",
       "    }\n",
       "</style>\n",
       "<table border=\"1\" class=\"dataframe\">\n",
       "  <thead>\n",
       "    <tr style=\"text-align: right;\">\n",
       "      <th></th>\n",
       "      <th>Cidade</th>\n",
       "      <th>Data</th>\n",
       "      <th>Vendas</th>\n",
       "      <th>LojaID</th>\n",
       "      <th>Qtde</th>\n",
       "      <th>Receita</th>\n",
       "      <th>Receita/Vendas</th>\n",
       "    </tr>\n",
       "  </thead>\n",
       "  <tbody>\n",
       "    <tr>\n",
       "      <th>0</th>\n",
       "      <td>Aracaju</td>\n",
       "      <td>2018-01-01</td>\n",
       "      <td>142.00</td>\n",
       "      <td>1520</td>\n",
       "      <td>1</td>\n",
       "      <td>142.00</td>\n",
       "      <td>1.0</td>\n",
       "    </tr>\n",
       "    <tr>\n",
       "      <th>1</th>\n",
       "      <td>Aracaju</td>\n",
       "      <td>2018-01-01</td>\n",
       "      <td>14.21</td>\n",
       "      <td>1522</td>\n",
       "      <td>6</td>\n",
       "      <td>85.26</td>\n",
       "      <td>6.0</td>\n",
       "    </tr>\n",
       "    <tr>\n",
       "      <th>2</th>\n",
       "      <td>Aracaju</td>\n",
       "      <td>2018-01-01</td>\n",
       "      <td>71.55</td>\n",
       "      <td>1520</td>\n",
       "      <td>1</td>\n",
       "      <td>71.55</td>\n",
       "      <td>1.0</td>\n",
       "    </tr>\n",
       "    <tr>\n",
       "      <th>3</th>\n",
       "      <td>Aracaju</td>\n",
       "      <td>2018-01-01</td>\n",
       "      <td>3.01</td>\n",
       "      <td>1521</td>\n",
       "      <td>7</td>\n",
       "      <td>21.07</td>\n",
       "      <td>7.0</td>\n",
       "    </tr>\n",
       "    <tr>\n",
       "      <th>4</th>\n",
       "      <td>Aracaju</td>\n",
       "      <td>2018-01-01</td>\n",
       "      <td>24.51</td>\n",
       "      <td>1522</td>\n",
       "      <td>8</td>\n",
       "      <td>196.08</td>\n",
       "      <td>8.0</td>\n",
       "    </tr>\n",
       "  </tbody>\n",
       "</table>\n",
       "</div>"
      ],
      "text/plain": [
       "    Cidade       Data  Vendas LojaID  Qtde  Receita  Receita/Vendas\n",
       "0  Aracaju 2018-01-01  142.00   1520     1   142.00             1.0\n",
       "1  Aracaju 2018-01-01   14.21   1522     6    85.26             6.0\n",
       "2  Aracaju 2018-01-01   71.55   1520     1    71.55             1.0\n",
       "3  Aracaju 2018-01-01    3.01   1521     7    21.07             7.0\n",
       "4  Aracaju 2018-01-01   24.51   1522     8   196.08             8.0"
      ]
     },
     "execution_count": 20,
     "metadata": {},
     "output_type": "execute_result"
    }
   ],
   "source": [
    "df[\"Receita/Vendas\"] = df[\"Receita\"] / df[\"Vendas\"]\n",
    "df.head()"
   ]
  },
  {
   "cell_type": "code",
   "execution_count": 21,
   "metadata": {},
   "outputs": [
    {
     "data": {
      "text/plain": [
       "3544.0"
      ]
     },
     "execution_count": 21,
     "metadata": {},
     "output_type": "execute_result"
    }
   ],
   "source": [
    "#Retornando a maior receita\n",
    "df[\"Receita\"].max()"
   ]
  },
  {
   "cell_type": "code",
   "execution_count": 22,
   "metadata": {},
   "outputs": [
    {
     "data": {
      "text/plain": [
       "3.34"
      ]
     },
     "execution_count": 22,
     "metadata": {},
     "output_type": "execute_result"
    }
   ],
   "source": [
    "#Retornando a menor receita\n",
    "df[\"Receita\"].min()"
   ]
  },
  {
   "cell_type": "code",
   "execution_count": 23,
   "metadata": {},
   "outputs": [
    {
     "data": {
      "text/html": [
       "<div>\n",
       "<style scoped>\n",
       "    .dataframe tbody tr th:only-of-type {\n",
       "        vertical-align: middle;\n",
       "    }\n",
       "\n",
       "    .dataframe tbody tr th {\n",
       "        vertical-align: top;\n",
       "    }\n",
       "\n",
       "    .dataframe thead th {\n",
       "        text-align: right;\n",
       "    }\n",
       "</style>\n",
       "<table border=\"1\" class=\"dataframe\">\n",
       "  <thead>\n",
       "    <tr style=\"text-align: right;\">\n",
       "      <th></th>\n",
       "      <th>Cidade</th>\n",
       "      <th>Data</th>\n",
       "      <th>Vendas</th>\n",
       "      <th>LojaID</th>\n",
       "      <th>Qtde</th>\n",
       "      <th>Receita</th>\n",
       "      <th>Receita/Vendas</th>\n",
       "    </tr>\n",
       "  </thead>\n",
       "  <tbody>\n",
       "    <tr>\n",
       "      <th>7</th>\n",
       "      <td>Natal</td>\n",
       "      <td>2019-03-18</td>\n",
       "      <td>886.0</td>\n",
       "      <td>853</td>\n",
       "      <td>4</td>\n",
       "      <td>3544.0</td>\n",
       "      <td>4.0</td>\n",
       "    </tr>\n",
       "    <tr>\n",
       "      <th>51</th>\n",
       "      <td>Natal</td>\n",
       "      <td>2018-01-21</td>\n",
       "      <td>859.0</td>\n",
       "      <td>852</td>\n",
       "      <td>4</td>\n",
       "      <td>3436.0</td>\n",
       "      <td>4.0</td>\n",
       "    </tr>\n",
       "    <tr>\n",
       "      <th>55</th>\n",
       "      <td>Natal</td>\n",
       "      <td>2019-01-08</td>\n",
       "      <td>859.0</td>\n",
       "      <td>854</td>\n",
       "      <td>4</td>\n",
       "      <td>3436.0</td>\n",
       "      <td>4.0</td>\n",
       "    </tr>\n",
       "  </tbody>\n",
       "</table>\n",
       "</div>"
      ],
      "text/plain": [
       "   Cidade       Data  Vendas LojaID  Qtde  Receita  Receita/Vendas\n",
       "7   Natal 2019-03-18   886.0    853     4   3544.0             4.0\n",
       "51  Natal 2018-01-21   859.0    852     4   3436.0             4.0\n",
       "55  Natal 2019-01-08   859.0    854     4   3436.0             4.0"
      ]
     },
     "execution_count": 23,
     "metadata": {},
     "output_type": "execute_result"
    }
   ],
   "source": [
    "#Top 3 com base em Receita\n",
    "df.nlargest(3, \"Receita\")"
   ]
  },
  {
   "cell_type": "code",
   "execution_count": 24,
   "metadata": {},
   "outputs": [
    {
     "data": {
      "text/html": [
       "<div>\n",
       "<style scoped>\n",
       "    .dataframe tbody tr th:only-of-type {\n",
       "        vertical-align: middle;\n",
       "    }\n",
       "\n",
       "    .dataframe tbody tr th {\n",
       "        vertical-align: top;\n",
       "    }\n",
       "\n",
       "    .dataframe thead th {\n",
       "        text-align: right;\n",
       "    }\n",
       "</style>\n",
       "<table border=\"1\" class=\"dataframe\">\n",
       "  <thead>\n",
       "    <tr style=\"text-align: right;\">\n",
       "      <th></th>\n",
       "      <th>Cidade</th>\n",
       "      <th>Data</th>\n",
       "      <th>Vendas</th>\n",
       "      <th>LojaID</th>\n",
       "      <th>Qtde</th>\n",
       "      <th>Receita</th>\n",
       "      <th>Receita/Vendas</th>\n",
       "    </tr>\n",
       "  </thead>\n",
       "  <tbody>\n",
       "    <tr>\n",
       "      <th>118</th>\n",
       "      <td>Aracaju</td>\n",
       "      <td>2018-01-01</td>\n",
       "      <td>3.34</td>\n",
       "      <td>1522</td>\n",
       "      <td>1</td>\n",
       "      <td>3.34</td>\n",
       "      <td>1.0</td>\n",
       "    </tr>\n",
       "    <tr>\n",
       "      <th>65</th>\n",
       "      <td>Recife</td>\n",
       "      <td>2019-01-01</td>\n",
       "      <td>4.01</td>\n",
       "      <td>981</td>\n",
       "      <td>1</td>\n",
       "      <td>4.01</td>\n",
       "      <td>1.0</td>\n",
       "    </tr>\n",
       "    <tr>\n",
       "      <th>92</th>\n",
       "      <td>Natal</td>\n",
       "      <td>2019-01-02</td>\n",
       "      <td>4.57</td>\n",
       "      <td>1035</td>\n",
       "      <td>1</td>\n",
       "      <td>4.57</td>\n",
       "      <td>1.0</td>\n",
       "    </tr>\n",
       "  </tbody>\n",
       "</table>\n",
       "</div>"
      ],
      "text/plain": [
       "      Cidade       Data  Vendas LojaID  Qtde  Receita  Receita/Vendas\n",
       "118  Aracaju 2018-01-01    3.34   1522     1     3.34             1.0\n",
       "65    Recife 2019-01-01    4.01    981     1     4.01             1.0\n",
       "92     Natal 2019-01-02    4.57   1035     1     4.57             1.0"
      ]
     },
     "execution_count": 24,
     "metadata": {},
     "output_type": "execute_result"
    }
   ],
   "source": [
    "#Top 3 (piores) com base em Receita\n",
    "df.nsmallest(3, \"Receita\")"
   ]
  },
  {
   "cell_type": "code",
   "execution_count": 25,
   "metadata": {},
   "outputs": [
    {
     "data": {
      "text/plain": [
       "Cidade\n",
       "Aracaju       48748.25\n",
       "Fortaleza     37913.97\n",
       "Natal        167227.52\n",
       "Recife        51936.51\n",
       "Salvador      40596.73\n",
       "Name: Receita, dtype: float64"
      ]
     },
     "execution_count": 25,
     "metadata": {},
     "output_type": "execute_result"
    }
   ],
   "source": [
    "#Agrupando por cidade e retornando receita\n",
    "df.groupby(\"Cidade\")[\"Receita\"].sum()"
   ]
  },
  {
   "cell_type": "code",
   "execution_count": 26,
   "metadata": {},
   "outputs": [
    {
     "data": {
      "text/html": [
       "<div>\n",
       "<style scoped>\n",
       "    .dataframe tbody tr th:only-of-type {\n",
       "        vertical-align: middle;\n",
       "    }\n",
       "\n",
       "    .dataframe tbody tr th {\n",
       "        vertical-align: top;\n",
       "    }\n",
       "\n",
       "    .dataframe thead th {\n",
       "        text-align: right;\n",
       "    }\n",
       "</style>\n",
       "<table border=\"1\" class=\"dataframe\">\n",
       "  <thead>\n",
       "    <tr style=\"text-align: right;\">\n",
       "      <th></th>\n",
       "      <th>Cidade</th>\n",
       "      <th>Data</th>\n",
       "      <th>Vendas</th>\n",
       "      <th>LojaID</th>\n",
       "      <th>Qtde</th>\n",
       "      <th>Receita</th>\n",
       "      <th>Receita/Vendas</th>\n",
       "    </tr>\n",
       "  </thead>\n",
       "  <tbody>\n",
       "    <tr>\n",
       "      <th>7</th>\n",
       "      <td>Natal</td>\n",
       "      <td>2019-03-18</td>\n",
       "      <td>886.0</td>\n",
       "      <td>853</td>\n",
       "      <td>4</td>\n",
       "      <td>3544.0</td>\n",
       "      <td>4.0</td>\n",
       "    </tr>\n",
       "    <tr>\n",
       "      <th>55</th>\n",
       "      <td>Natal</td>\n",
       "      <td>2019-01-08</td>\n",
       "      <td>859.0</td>\n",
       "      <td>854</td>\n",
       "      <td>4</td>\n",
       "      <td>3436.0</td>\n",
       "      <td>4.0</td>\n",
       "    </tr>\n",
       "    <tr>\n",
       "      <th>51</th>\n",
       "      <td>Natal</td>\n",
       "      <td>2018-01-21</td>\n",
       "      <td>859.0</td>\n",
       "      <td>852</td>\n",
       "      <td>4</td>\n",
       "      <td>3436.0</td>\n",
       "      <td>4.0</td>\n",
       "    </tr>\n",
       "    <tr>\n",
       "      <th>30</th>\n",
       "      <td>Natal</td>\n",
       "      <td>2018-10-02</td>\n",
       "      <td>856.0</td>\n",
       "      <td>853</td>\n",
       "      <td>4</td>\n",
       "      <td>3424.0</td>\n",
       "      <td>4.0</td>\n",
       "    </tr>\n",
       "    <tr>\n",
       "      <th>41</th>\n",
       "      <td>Natal</td>\n",
       "      <td>2018-05-20</td>\n",
       "      <td>835.0</td>\n",
       "      <td>852</td>\n",
       "      <td>4</td>\n",
       "      <td>3340.0</td>\n",
       "      <td>4.0</td>\n",
       "    </tr>\n",
       "    <tr>\n",
       "      <th>38</th>\n",
       "      <td>Natal</td>\n",
       "      <td>2018-02-25</td>\n",
       "      <td>828.0</td>\n",
       "      <td>852</td>\n",
       "      <td>4</td>\n",
       "      <td>3312.0</td>\n",
       "      <td>4.0</td>\n",
       "    </tr>\n",
       "    <tr>\n",
       "      <th>10</th>\n",
       "      <td>Natal</td>\n",
       "      <td>2018-10-27</td>\n",
       "      <td>828.0</td>\n",
       "      <td>852</td>\n",
       "      <td>4</td>\n",
       "      <td>3312.0</td>\n",
       "      <td>4.0</td>\n",
       "    </tr>\n",
       "    <tr>\n",
       "      <th>69</th>\n",
       "      <td>Natal</td>\n",
       "      <td>2019-03-24</td>\n",
       "      <td>817.0</td>\n",
       "      <td>852</td>\n",
       "      <td>4</td>\n",
       "      <td>3268.0</td>\n",
       "      <td>4.0</td>\n",
       "    </tr>\n",
       "    <tr>\n",
       "      <th>62</th>\n",
       "      <td>Natal</td>\n",
       "      <td>2018-02-10</td>\n",
       "      <td>793.0</td>\n",
       "      <td>854</td>\n",
       "      <td>4</td>\n",
       "      <td>3172.0</td>\n",
       "      <td>4.0</td>\n",
       "    </tr>\n",
       "    <tr>\n",
       "      <th>52</th>\n",
       "      <td>Natal</td>\n",
       "      <td>2018-04-27</td>\n",
       "      <td>778.0</td>\n",
       "      <td>854</td>\n",
       "      <td>4</td>\n",
       "      <td>3112.0</td>\n",
       "      <td>4.0</td>\n",
       "    </tr>\n",
       "  </tbody>\n",
       "</table>\n",
       "</div>"
      ],
      "text/plain": [
       "   Cidade       Data  Vendas LojaID  Qtde  Receita  Receita/Vendas\n",
       "7   Natal 2019-03-18   886.0    853     4   3544.0             4.0\n",
       "55  Natal 2019-01-08   859.0    854     4   3436.0             4.0\n",
       "51  Natal 2018-01-21   859.0    852     4   3436.0             4.0\n",
       "30  Natal 2018-10-02   856.0    853     4   3424.0             4.0\n",
       "41  Natal 2018-05-20   835.0    852     4   3340.0             4.0\n",
       "38  Natal 2018-02-25   828.0    852     4   3312.0             4.0\n",
       "10  Natal 2018-10-27   828.0    852     4   3312.0             4.0\n",
       "69  Natal 2019-03-24   817.0    852     4   3268.0             4.0\n",
       "62  Natal 2018-02-10   793.0    854     4   3172.0             4.0\n",
       "52  Natal 2018-04-27   778.0    854     4   3112.0             4.0"
      ]
     },
     "execution_count": 26,
     "metadata": {},
     "output_type": "execute_result"
    }
   ],
   "source": [
    "#Ordenando o conjunto de dados\n",
    "df.sort_values(\"Receita\", ascending=False).head(10)"
   ]
  },
  {
   "cell_type": "code",
   "execution_count": 28,
   "metadata": {},
   "outputs": [
    {
     "data": {
      "text/plain": [
       "Cidade             object\n",
       "Data                int64\n",
       "Vendas            float64\n",
       "LojaID             object\n",
       "Qtde                int64\n",
       "Receita           float64\n",
       "Receita/Vendas    float64\n",
       "dtype: object"
      ]
     },
     "execution_count": 28,
     "metadata": {},
     "output_type": "execute_result"
    }
   ],
   "source": [
    "#Tranformando coluna data em tipo inteiro\n",
    "df[\"Data\"] = df[\"Data\"].astype(\"int64\")\n",
    "df.dtypes"
   ]
  },
  {
   "cell_type": "code",
   "execution_count": 29,
   "metadata": {},
   "outputs": [
    {
     "data": {
      "text/plain": [
       "Cidade                    object\n",
       "Data              datetime64[ns]\n",
       "Vendas                   float64\n",
       "LojaID                    object\n",
       "Qtde                       int64\n",
       "Receita                  float64\n",
       "Receita/Vendas           float64\n",
       "dtype: object"
      ]
     },
     "execution_count": 29,
     "metadata": {},
     "output_type": "execute_result"
    }
   ],
   "source": [
    "#Tranformando coluna data em data\n",
    "df[\"Data\"] = pd.to_datetime(df[\"Data\"])\n",
    "df.dtypes"
   ]
  },
  {
   "cell_type": "code",
   "execution_count": 30,
   "metadata": {},
   "outputs": [
    {
     "data": {
      "text/plain": [
       "Data\n",
       "2018    118176.53\n",
       "2019    228246.45\n",
       "Name: Receita, dtype: float64"
      ]
     },
     "execution_count": 30,
     "metadata": {},
     "output_type": "execute_result"
    }
   ],
   "source": [
    "#Agrupando por ano\n",
    "#dt.year para ir na minha data e extrair apenas o ano\n",
    "df.groupby(df[\"Data\"].dt.year)[\"Receita\"].sum()"
   ]
  },
  {
   "cell_type": "code",
   "execution_count": 32,
   "metadata": {},
   "outputs": [
    {
     "data": {
      "text/html": [
       "<div>\n",
       "<style scoped>\n",
       "    .dataframe tbody tr th:only-of-type {\n",
       "        vertical-align: middle;\n",
       "    }\n",
       "\n",
       "    .dataframe tbody tr th {\n",
       "        vertical-align: top;\n",
       "    }\n",
       "\n",
       "    .dataframe thead th {\n",
       "        text-align: right;\n",
       "    }\n",
       "</style>\n",
       "<table border=\"1\" class=\"dataframe\">\n",
       "  <thead>\n",
       "    <tr style=\"text-align: right;\">\n",
       "      <th></th>\n",
       "      <th>Cidade</th>\n",
       "      <th>Data</th>\n",
       "      <th>Vendas</th>\n",
       "      <th>LojaID</th>\n",
       "      <th>Qtde</th>\n",
       "      <th>Receita</th>\n",
       "      <th>Receita/Vendas</th>\n",
       "      <th>anoVenda</th>\n",
       "    </tr>\n",
       "  </thead>\n",
       "  <tbody>\n",
       "    <tr>\n",
       "      <th>79</th>\n",
       "      <td>Salvador</td>\n",
       "      <td>2019-01-01</td>\n",
       "      <td>19.02</td>\n",
       "      <td>1034</td>\n",
       "      <td>2</td>\n",
       "      <td>38.04</td>\n",
       "      <td>2.0</td>\n",
       "      <td>2019</td>\n",
       "    </tr>\n",
       "    <tr>\n",
       "      <th>26</th>\n",
       "      <td>Natal</td>\n",
       "      <td>2018-07-20</td>\n",
       "      <td>370.00</td>\n",
       "      <td>853</td>\n",
       "      <td>3</td>\n",
       "      <td>1110.00</td>\n",
       "      <td>3.0</td>\n",
       "      <td>2018</td>\n",
       "    </tr>\n",
       "    <tr>\n",
       "      <th>24</th>\n",
       "      <td>Natal</td>\n",
       "      <td>2018-04-22</td>\n",
       "      <td>868.00</td>\n",
       "      <td>854</td>\n",
       "      <td>3</td>\n",
       "      <td>2604.00</td>\n",
       "      <td>3.0</td>\n",
       "      <td>2018</td>\n",
       "    </tr>\n",
       "    <tr>\n",
       "      <th>34</th>\n",
       "      <td>Aracaju</td>\n",
       "      <td>2018-01-01</td>\n",
       "      <td>38.25</td>\n",
       "      <td>1521</td>\n",
       "      <td>6</td>\n",
       "      <td>229.50</td>\n",
       "      <td>6.0</td>\n",
       "      <td>2018</td>\n",
       "    </tr>\n",
       "    <tr>\n",
       "      <th>45</th>\n",
       "      <td>Recife</td>\n",
       "      <td>2019-01-01</td>\n",
       "      <td>15.90</td>\n",
       "      <td>983</td>\n",
       "      <td>8</td>\n",
       "      <td>127.20</td>\n",
       "      <td>8.0</td>\n",
       "      <td>2019</td>\n",
       "    </tr>\n",
       "  </tbody>\n",
       "</table>\n",
       "</div>"
      ],
      "text/plain": [
       "      Cidade       Data  Vendas LojaID  Qtde  Receita  Receita/Vendas  \\\n",
       "79  Salvador 2019-01-01   19.02   1034     2    38.04             2.0   \n",
       "26     Natal 2018-07-20  370.00    853     3  1110.00             3.0   \n",
       "24     Natal 2018-04-22  868.00    854     3  2604.00             3.0   \n",
       "34   Aracaju 2018-01-01   38.25   1521     6   229.50             6.0   \n",
       "45    Recife 2019-01-01   15.90    983     8   127.20             8.0   \n",
       "\n",
       "    anoVenda  \n",
       "79      2019  \n",
       "26      2018  \n",
       "24      2018  \n",
       "34      2018  \n",
       "45      2019  "
      ]
     },
     "execution_count": 32,
     "metadata": {},
     "output_type": "execute_result"
    }
   ],
   "source": [
    "#Criando uma nova coluna de ano\n",
    "df[\"anoVenda\"] = df[\"Data\"].dt.year\n",
    "df.sample(5)"
   ]
  },
  {
   "cell_type": "code",
   "execution_count": 33,
   "metadata": {},
   "outputs": [
    {
     "data": {
      "text/html": [
       "<div>\n",
       "<style scoped>\n",
       "    .dataframe tbody tr th:only-of-type {\n",
       "        vertical-align: middle;\n",
       "    }\n",
       "\n",
       "    .dataframe tbody tr th {\n",
       "        vertical-align: top;\n",
       "    }\n",
       "\n",
       "    .dataframe thead th {\n",
       "        text-align: right;\n",
       "    }\n",
       "</style>\n",
       "<table border=\"1\" class=\"dataframe\">\n",
       "  <thead>\n",
       "    <tr style=\"text-align: right;\">\n",
       "      <th></th>\n",
       "      <th>Cidade</th>\n",
       "      <th>Data</th>\n",
       "      <th>Vendas</th>\n",
       "      <th>LojaID</th>\n",
       "      <th>Qtde</th>\n",
       "      <th>Receita</th>\n",
       "      <th>Receita/Vendas</th>\n",
       "      <th>anoVenda</th>\n",
       "      <th>mesVenda</th>\n",
       "      <th>diaVenda</th>\n",
       "    </tr>\n",
       "  </thead>\n",
       "  <tbody>\n",
       "    <tr>\n",
       "      <th>87</th>\n",
       "      <td>Natal</td>\n",
       "      <td>2019-01-02</td>\n",
       "      <td>135.19</td>\n",
       "      <td>1034</td>\n",
       "      <td>2</td>\n",
       "      <td>270.38</td>\n",
       "      <td>2.0</td>\n",
       "      <td>2019</td>\n",
       "      <td>1</td>\n",
       "      <td>2</td>\n",
       "    </tr>\n",
       "    <tr>\n",
       "      <th>74</th>\n",
       "      <td>Salvador</td>\n",
       "      <td>2019-01-01</td>\n",
       "      <td>170.53</td>\n",
       "      <td>1035</td>\n",
       "      <td>2</td>\n",
       "      <td>341.06</td>\n",
       "      <td>2.0</td>\n",
       "      <td>2019</td>\n",
       "      <td>1</td>\n",
       "      <td>1</td>\n",
       "    </tr>\n",
       "    <tr>\n",
       "      <th>3</th>\n",
       "      <td>Aracaju</td>\n",
       "      <td>2018-01-01</td>\n",
       "      <td>3.01</td>\n",
       "      <td>1521</td>\n",
       "      <td>7</td>\n",
       "      <td>21.07</td>\n",
       "      <td>7.0</td>\n",
       "      <td>2018</td>\n",
       "      <td>1</td>\n",
       "      <td>1</td>\n",
       "    </tr>\n",
       "    <tr>\n",
       "      <th>200</th>\n",
       "      <td>Natal</td>\n",
       "      <td>2019-01-02</td>\n",
       "      <td>41.06</td>\n",
       "      <td>1035</td>\n",
       "      <td>1</td>\n",
       "      <td>41.06</td>\n",
       "      <td>1.0</td>\n",
       "      <td>2019</td>\n",
       "      <td>1</td>\n",
       "      <td>2</td>\n",
       "    </tr>\n",
       "    <tr>\n",
       "      <th>98</th>\n",
       "      <td>Salvador</td>\n",
       "      <td>2019-01-01</td>\n",
       "      <td>231.76</td>\n",
       "      <td>1036</td>\n",
       "      <td>3</td>\n",
       "      <td>695.28</td>\n",
       "      <td>3.0</td>\n",
       "      <td>2019</td>\n",
       "      <td>1</td>\n",
       "      <td>1</td>\n",
       "    </tr>\n",
       "  </tbody>\n",
       "</table>\n",
       "</div>"
      ],
      "text/plain": [
       "       Cidade       Data  Vendas LojaID  Qtde  Receita  Receita/Vendas  \\\n",
       "87      Natal 2019-01-02  135.19   1034     2   270.38             2.0   \n",
       "74   Salvador 2019-01-01  170.53   1035     2   341.06             2.0   \n",
       "3     Aracaju 2018-01-01    3.01   1521     7    21.07             7.0   \n",
       "200     Natal 2019-01-02   41.06   1035     1    41.06             1.0   \n",
       "98   Salvador 2019-01-01  231.76   1036     3   695.28             3.0   \n",
       "\n",
       "     anoVenda  mesVenda  diaVenda  \n",
       "87       2019         1         2  \n",
       "74       2019         1         1  \n",
       "3        2018         1         1  \n",
       "200      2019         1         2  \n",
       "98       2019         1         1  "
      ]
     },
     "execution_count": 33,
     "metadata": {},
     "output_type": "execute_result"
    }
   ],
   "source": [
    "#Extraindo o mês e o dia\n",
    "df[\"mesVenda\"], df[\"diaVenda\"] = df[\"Data\"].dt.month, df[\"Data\"].dt.day\n",
    "df.sample(5)"
   ]
  },
  {
   "cell_type": "code",
   "execution_count": 34,
   "metadata": {},
   "outputs": [
    {
     "data": {
      "text/plain": [
       "Timestamp('2018-01-01 00:00:00')"
      ]
     },
     "execution_count": 34,
     "metadata": {},
     "output_type": "execute_result"
    }
   ],
   "source": [
    "#Retornando a data mais antiga\n",
    "df[\"Data\"].min()"
   ]
  },
  {
   "cell_type": "code",
   "execution_count": 35,
   "metadata": {},
   "outputs": [
    {
     "data": {
      "text/html": [
       "<div>\n",
       "<style scoped>\n",
       "    .dataframe tbody tr th:only-of-type {\n",
       "        vertical-align: middle;\n",
       "    }\n",
       "\n",
       "    .dataframe tbody tr th {\n",
       "        vertical-align: top;\n",
       "    }\n",
       "\n",
       "    .dataframe thead th {\n",
       "        text-align: right;\n",
       "    }\n",
       "</style>\n",
       "<table border=\"1\" class=\"dataframe\">\n",
       "  <thead>\n",
       "    <tr style=\"text-align: right;\">\n",
       "      <th></th>\n",
       "      <th>Cidade</th>\n",
       "      <th>Data</th>\n",
       "      <th>Vendas</th>\n",
       "      <th>LojaID</th>\n",
       "      <th>Qtde</th>\n",
       "      <th>Receita</th>\n",
       "      <th>Receita/Vendas</th>\n",
       "      <th>anoVenda</th>\n",
       "      <th>mesVenda</th>\n",
       "      <th>diaVenda</th>\n",
       "      <th>Diferença de dias</th>\n",
       "    </tr>\n",
       "  </thead>\n",
       "  <tbody>\n",
       "    <tr>\n",
       "      <th>236</th>\n",
       "      <td>Salvador</td>\n",
       "      <td>2019-01-03</td>\n",
       "      <td>126.29</td>\n",
       "      <td>1035</td>\n",
       "      <td>3</td>\n",
       "      <td>378.87</td>\n",
       "      <td>3.0</td>\n",
       "      <td>2019</td>\n",
       "      <td>1</td>\n",
       "      <td>3</td>\n",
       "      <td>367 days</td>\n",
       "    </tr>\n",
       "    <tr>\n",
       "      <th>57</th>\n",
       "      <td>Aracaju</td>\n",
       "      <td>2018-01-01</td>\n",
       "      <td>23.49</td>\n",
       "      <td>1520</td>\n",
       "      <td>7</td>\n",
       "      <td>164.43</td>\n",
       "      <td>7.0</td>\n",
       "      <td>2018</td>\n",
       "      <td>1</td>\n",
       "      <td>1</td>\n",
       "      <td>0 days</td>\n",
       "    </tr>\n",
       "    <tr>\n",
       "      <th>81</th>\n",
       "      <td>Aracaju</td>\n",
       "      <td>2018-01-01</td>\n",
       "      <td>53.41</td>\n",
       "      <td>1520</td>\n",
       "      <td>2</td>\n",
       "      <td>106.82</td>\n",
       "      <td>2.0</td>\n",
       "      <td>2018</td>\n",
       "      <td>1</td>\n",
       "      <td>1</td>\n",
       "      <td>0 days</td>\n",
       "    </tr>\n",
       "    <tr>\n",
       "      <th>197</th>\n",
       "      <td>Salvador</td>\n",
       "      <td>2019-01-02</td>\n",
       "      <td>10.45</td>\n",
       "      <td>1036</td>\n",
       "      <td>2</td>\n",
       "      <td>20.90</td>\n",
       "      <td>2.0</td>\n",
       "      <td>2019</td>\n",
       "      <td>1</td>\n",
       "      <td>2</td>\n",
       "      <td>366 days</td>\n",
       "    </tr>\n",
       "    <tr>\n",
       "      <th>205</th>\n",
       "      <td>Salvador</td>\n",
       "      <td>2019-01-02</td>\n",
       "      <td>196.09</td>\n",
       "      <td>1037</td>\n",
       "      <td>1</td>\n",
       "      <td>196.09</td>\n",
       "      <td>1.0</td>\n",
       "      <td>2019</td>\n",
       "      <td>1</td>\n",
       "      <td>2</td>\n",
       "      <td>366 days</td>\n",
       "    </tr>\n",
       "  </tbody>\n",
       "</table>\n",
       "</div>"
      ],
      "text/plain": [
       "       Cidade       Data  Vendas LojaID  Qtde  Receita  Receita/Vendas  \\\n",
       "236  Salvador 2019-01-03  126.29   1035     3   378.87             3.0   \n",
       "57    Aracaju 2018-01-01   23.49   1520     7   164.43             7.0   \n",
       "81    Aracaju 2018-01-01   53.41   1520     2   106.82             2.0   \n",
       "197  Salvador 2019-01-02   10.45   1036     2    20.90             2.0   \n",
       "205  Salvador 2019-01-02  196.09   1037     1   196.09             1.0   \n",
       "\n",
       "     anoVenda  mesVenda  diaVenda Diferença de dias  \n",
       "236      2019         1         3          367 days  \n",
       "57       2018         1         1            0 days  \n",
       "81       2018         1         1            0 days  \n",
       "197      2019         1         2          366 days  \n",
       "205      2019         1         2          366 days  "
      ]
     },
     "execution_count": 35,
     "metadata": {},
     "output_type": "execute_result"
    }
   ],
   "source": [
    "#Calculando a diferença de dias\n",
    "df[\"Diferença de dias\"] = df[\"Data\"] - df[\"Data\"].min()\n",
    "df.sample(5)"
   ]
  },
  {
   "cell_type": "code",
   "execution_count": 38,
   "metadata": {},
   "outputs": [
    {
     "data": {
      "text/html": [
       "<div>\n",
       "<style scoped>\n",
       "    .dataframe tbody tr th:only-of-type {\n",
       "        vertical-align: middle;\n",
       "    }\n",
       "\n",
       "    .dataframe tbody tr th {\n",
       "        vertical-align: top;\n",
       "    }\n",
       "\n",
       "    .dataframe thead th {\n",
       "        text-align: right;\n",
       "    }\n",
       "</style>\n",
       "<table border=\"1\" class=\"dataframe\">\n",
       "  <thead>\n",
       "    <tr style=\"text-align: right;\">\n",
       "      <th></th>\n",
       "      <th>Cidade</th>\n",
       "      <th>Data</th>\n",
       "      <th>Vendas</th>\n",
       "      <th>LojaID</th>\n",
       "      <th>Qtde</th>\n",
       "      <th>Receita</th>\n",
       "      <th>Receita/Vendas</th>\n",
       "      <th>anoVenda</th>\n",
       "      <th>mesVenda</th>\n",
       "      <th>diaVenda</th>\n",
       "      <th>Diferença de dias</th>\n",
       "      <th>trimestreVenda</th>\n",
       "    </tr>\n",
       "  </thead>\n",
       "  <tbody>\n",
       "    <tr>\n",
       "      <th>12</th>\n",
       "      <td>Natal</td>\n",
       "      <td>2019-02-02</td>\n",
       "      <td>709.00</td>\n",
       "      <td>853</td>\n",
       "      <td>3</td>\n",
       "      <td>2127.00</td>\n",
       "      <td>3.0</td>\n",
       "      <td>2019</td>\n",
       "      <td>2</td>\n",
       "      <td>2</td>\n",
       "      <td>397 days</td>\n",
       "      <td>1</td>\n",
       "    </tr>\n",
       "    <tr>\n",
       "      <th>109</th>\n",
       "      <td>Recife</td>\n",
       "      <td>2019-03-02</td>\n",
       "      <td>18.90</td>\n",
       "      <td>982</td>\n",
       "      <td>6</td>\n",
       "      <td>113.40</td>\n",
       "      <td>6.0</td>\n",
       "      <td>2019</td>\n",
       "      <td>3</td>\n",
       "      <td>2</td>\n",
       "      <td>425 days</td>\n",
       "      <td>1</td>\n",
       "    </tr>\n",
       "    <tr>\n",
       "      <th>77</th>\n",
       "      <td>Natal</td>\n",
       "      <td>2019-04-01</td>\n",
       "      <td>426.00</td>\n",
       "      <td>853</td>\n",
       "      <td>3</td>\n",
       "      <td>1278.00</td>\n",
       "      <td>3.0</td>\n",
       "      <td>2019</td>\n",
       "      <td>4</td>\n",
       "      <td>1</td>\n",
       "      <td>455 days</td>\n",
       "      <td>2</td>\n",
       "    </tr>\n",
       "    <tr>\n",
       "      <th>60</th>\n",
       "      <td>Salvador</td>\n",
       "      <td>2019-01-01</td>\n",
       "      <td>96.01</td>\n",
       "      <td>1034</td>\n",
       "      <td>2</td>\n",
       "      <td>192.02</td>\n",
       "      <td>2.0</td>\n",
       "      <td>2019</td>\n",
       "      <td>1</td>\n",
       "      <td>1</td>\n",
       "      <td>365 days</td>\n",
       "      <td>1</td>\n",
       "    </tr>\n",
       "    <tr>\n",
       "      <th>31</th>\n",
       "      <td>Natal</td>\n",
       "      <td>2018-04-03</td>\n",
       "      <td>401.00</td>\n",
       "      <td>854</td>\n",
       "      <td>4</td>\n",
       "      <td>1604.00</td>\n",
       "      <td>4.0</td>\n",
       "      <td>2018</td>\n",
       "      <td>4</td>\n",
       "      <td>3</td>\n",
       "      <td>92 days</td>\n",
       "      <td>2</td>\n",
       "    </tr>\n",
       "  </tbody>\n",
       "</table>\n",
       "</div>"
      ],
      "text/plain": [
       "       Cidade       Data  Vendas LojaID  Qtde  Receita  Receita/Vendas  \\\n",
       "12      Natal 2019-02-02  709.00    853     3  2127.00             3.0   \n",
       "109    Recife 2019-03-02   18.90    982     6   113.40             6.0   \n",
       "77      Natal 2019-04-01  426.00    853     3  1278.00             3.0   \n",
       "60   Salvador 2019-01-01   96.01   1034     2   192.02             2.0   \n",
       "31      Natal 2018-04-03  401.00    854     4  1604.00             4.0   \n",
       "\n",
       "     anoVenda  mesVenda  diaVenda Diferença de dias  trimestreVenda  \n",
       "12       2019         2         2          397 days               1  \n",
       "109      2019         3         2          425 days               1  \n",
       "77       2019         4         1          455 days               2  \n",
       "60       2019         1         1          365 days               1  \n",
       "31       2018         4         3           92 days               2  "
      ]
     },
     "execution_count": 38,
     "metadata": {},
     "output_type": "execute_result"
    }
   ],
   "source": [
    "#Criando a coluna de trimestre\n",
    "df[\"trimestreVenda\"] = df[\"Data\"].dt.quarter\n",
    "df.sample(5)"
   ]
  },
  {
   "cell_type": "code",
   "execution_count": 42,
   "metadata": {},
   "outputs": [
    {
     "data": {
      "text/html": [
       "<div>\n",
       "<style scoped>\n",
       "    .dataframe tbody tr th:only-of-type {\n",
       "        vertical-align: middle;\n",
       "    }\n",
       "\n",
       "    .dataframe tbody tr th {\n",
       "        vertical-align: top;\n",
       "    }\n",
       "\n",
       "    .dataframe thead th {\n",
       "        text-align: right;\n",
       "    }\n",
       "</style>\n",
       "<table border=\"1\" class=\"dataframe\">\n",
       "  <thead>\n",
       "    <tr style=\"text-align: right;\">\n",
       "      <th></th>\n",
       "      <th>Cidade</th>\n",
       "      <th>Data</th>\n",
       "      <th>Vendas</th>\n",
       "      <th>LojaID</th>\n",
       "      <th>Qtde</th>\n",
       "      <th>Receita</th>\n",
       "      <th>Receita/Vendas</th>\n",
       "      <th>anoVenda</th>\n",
       "      <th>mesVenda</th>\n",
       "      <th>diaVenda</th>\n",
       "      <th>Diferença de dias</th>\n",
       "      <th>trimestreVenda</th>\n",
       "    </tr>\n",
       "  </thead>\n",
       "  <tbody>\n",
       "    <tr>\n",
       "      <th>45</th>\n",
       "      <td>Recife</td>\n",
       "      <td>2019-01-01</td>\n",
       "      <td>15.90</td>\n",
       "      <td>983</td>\n",
       "      <td>8</td>\n",
       "      <td>127.20</td>\n",
       "      <td>8.0</td>\n",
       "      <td>2019</td>\n",
       "      <td>1</td>\n",
       "      <td>1</td>\n",
       "      <td>365 days</td>\n",
       "      <td>1</td>\n",
       "    </tr>\n",
       "    <tr>\n",
       "      <th>50</th>\n",
       "      <td>Fortaleza</td>\n",
       "      <td>2019-01-01</td>\n",
       "      <td>33.69</td>\n",
       "      <td>1005</td>\n",
       "      <td>3</td>\n",
       "      <td>101.07</td>\n",
       "      <td>3.0</td>\n",
       "      <td>2019</td>\n",
       "      <td>1</td>\n",
       "      <td>1</td>\n",
       "      <td>365 days</td>\n",
       "      <td>1</td>\n",
       "    </tr>\n",
       "    <tr>\n",
       "      <th>64</th>\n",
       "      <td>Fortaleza</td>\n",
       "      <td>2019-01-01</td>\n",
       "      <td>110.31</td>\n",
       "      <td>1005</td>\n",
       "      <td>4</td>\n",
       "      <td>441.24</td>\n",
       "      <td>4.0</td>\n",
       "      <td>2019</td>\n",
       "      <td>1</td>\n",
       "      <td>1</td>\n",
       "      <td>365 days</td>\n",
       "      <td>1</td>\n",
       "    </tr>\n",
       "  </tbody>\n",
       "</table>\n",
       "</div>"
      ],
      "text/plain": [
       "       Cidade       Data  Vendas LojaID  Qtde  Receita  Receita/Vendas  \\\n",
       "45     Recife 2019-01-01   15.90    983     8   127.20             8.0   \n",
       "50  Fortaleza 2019-01-01   33.69   1005     3   101.07             3.0   \n",
       "64  Fortaleza 2019-01-01  110.31   1005     4   441.24             4.0   \n",
       "\n",
       "    anoVenda  mesVenda  diaVenda Diferença de dias  trimestreVenda  \n",
       "45      2019         1         1          365 days               1  \n",
       "50      2019         1         1          365 days               1  \n",
       "64      2019         1         1          365 days               1  "
      ]
     },
     "execution_count": 42,
     "metadata": {},
     "output_type": "execute_result"
    }
   ],
   "source": [
    "#Filtrando as vendas de 2019 no mês de janeiro\n",
    "vendasMarco19 = df.loc[(df[\"Data\"].dt.year == 2019) & (df[\"Data\"].dt.month == 1)]\n",
    "vendasMarco19.sample(3)"
   ]
  },
  {
   "cell_type": "code",
   "execution_count": 43,
   "metadata": {},
   "outputs": [
    {
     "data": {
      "text/plain": [
       "1036    117\n",
       "1035    112\n",
       "1037    101\n",
       "1034     67\n",
       "983      65\n",
       "982      44\n",
       "1522     41\n",
       "1520     39\n",
       "980      36\n",
       "981      31\n",
       "1005     30\n",
       "1002     30\n",
       "852      29\n",
       "1523     29\n",
       "1004     28\n",
       "854      28\n",
       "853      26\n",
       "1521     21\n",
       "1003     20\n",
       "Name: LojaID, dtype: int64"
      ]
     },
     "execution_count": 43,
     "metadata": {},
     "output_type": "execute_result"
    }
   ],
   "source": [
    "#Verifica quantas vezes cada LojaID se repetiu no banco de dados\n",
    "#LojaID 1036 realizou 117 vendas\n",
    "df[\"LojaID\"].value_counts(ascending=False)"
   ]
  },
  {
   "cell_type": "code",
   "execution_count": 44,
   "metadata": {},
   "outputs": [
    {
     "data": {
      "text/plain": [
       "<AxesSubplot:>"
      ]
     },
     "execution_count": 44,
     "metadata": {},
     "output_type": "execute_result"
    },
    {
     "data": {
      "image/png": "[encoded data removed]",
      "text/plain": [
       "<Figure size 432x288 with 1 Axes>"
      ]
     },
     "metadata": {
      "needs_background": "light"
     },
     "output_type": "display_data"
    }
   ],
   "source": [
    "#Montando um gráfico: basta usar.plot.bar()\n",
    "df[\"LojaID\"].value_counts(ascending=False).plot.bar()"
   ]
  },
  {
   "cell_type": "code",
   "execution_count": 45,
   "metadata": {},
   "outputs": [
    {
     "data": {
      "text/plain": [
       "<AxesSubplot:>"
      ]
     },
     "execution_count": 45,
     "metadata": {},
     "output_type": "execute_result"
    },
    {
     "data": {
      "image/png": "[encoded data removed]",
      "text/plain": [
       "<Figure size 432x288 with 1 Axes>"
      ]
     },
     "metadata": {
      "needs_background": "light"
     },
     "output_type": "display_data"
    }
   ],
   "source": [
    "#Montando um gráfico de barras horizontais: basta usar.plot.barh()\n",
    "df[\"LojaID\"].value_counts(ascending=False).plot.barh()"
   ]
  },
  {
   "cell_type": "code",
   "execution_count": 46,
   "metadata": {},
   "outputs": [
    {
     "data": {
      "text/plain": [
       "<AxesSubplot:>"
      ]
     },
     "execution_count": 46,
     "metadata": {},
     "output_type": "execute_result"
    },
    {
     "data": {
      "image/png": "[encoded data removed]",
      "text/plain": [
       "<Figure size 432x288 with 1 Axes>"
      ]
     },
     "metadata": {
      "needs_background": "light"
     },
     "output_type": "display_data"
    }
   ],
   "source": [
    "#Montando um gráfico de barras horizontais: basta usar.plot.barh()\n",
    "#Para os valores virem na ordem crescente (ascending=True)\n",
    "df[\"LojaID\"].value_counts(ascending=True).plot.barh()"
   ]
  },
  {
   "cell_type": "code",
   "execution_count": 47,
   "metadata": {},
   "outputs": [
    {
     "data": {
      "image/png": "[encoded data removed]",
      "text/plain": [
       "<Figure size 432x288 with 1 Axes>"
      ]
     },
     "metadata": {
      "needs_background": "light"
     },
     "output_type": "display_data"
    }
   ],
   "source": [
    "#PAra não vir a linha de texto em cima do gráfico: usar \";\" no final\n",
    "df[\"LojaID\"].value_counts(ascending=True).plot.barh();"
   ]
  },
  {
   "cell_type": "code",
   "execution_count": 48,
   "metadata": {},
   "outputs": [
    {
     "data": {
      "text/plain": [
       "<AxesSubplot:ylabel='Receita'>"
      ]
     },
     "execution_count": 48,
     "metadata": {},
     "output_type": "execute_result"
    },
    {
     "data": {
      "image/png": "[encoded data removed]",
      "text/plain": [
       "<Figure size 432x288 with 1 Axes>"
      ]
     },
     "metadata": {},
     "output_type": "display_data"
    }
   ],
   "source": [
    "#Gráfico de pizza: .plot.pie()\n",
    "df.groupby(df[\"Data\"].dt.year)[\"Receita\"].sum().plot.pie()"
   ]
  },
  {
   "cell_type": "code",
   "execution_count": 50,
   "metadata": {},
   "outputs": [
    {
     "data": {
      "text/plain": [
       "Natal        240\n",
       "Salvador     240\n",
       "Fortaleza    142\n",
       "Recife       142\n",
       "Aracaju      130\n",
       "Name: Cidade, dtype: int64"
      ]
     },
     "execution_count": 50,
     "metadata": {},
     "output_type": "execute_result"
    }
   ],
   "source": [
    "#Total de vendas por cidade\n",
    "df[\"Cidade\"].value_counts()"
   ]
  },
  {
   "cell_type": "code",
   "execution_count": 53,
   "metadata": {},
   "outputs": [
    {
     "data": {
      "text/plain": [
       "Text(0, 0.5, 'Total de vendas')"
      ]
     },
     "execution_count": 53,
     "metadata": {},
     "output_type": "execute_result"
    },
    {
     "data": {
      "image/png": "[encoded data removed]",
      "text/plain": [
       "<Figure size 432x288 with 1 Axes>"
      ]
     },
     "metadata": {
      "needs_background": "light"
     },
     "output_type": "display_data"
    }
   ],
   "source": [
    "import matplotlib.pyplot as plt\n",
    "df[\"Cidade\"].value_counts().plot.bar(title = \"Total de vendas por cidade\")\n",
    "plt.xlabel(\"Cidade\")\n",
    "plt.ylabel(\"Total de vendas\")"
   ]
  },
  {
   "cell_type": "code",
   "execution_count": 54,
   "metadata": {},
   "outputs": [
    {
     "data": {
      "text/plain": [
       "Text(0, 0.5, 'Total de vendas')"
      ]
     },
     "execution_count": 54,
     "metadata": {},
     "output_type": "execute_result"
    },
    {
     "data": {
      "image/png": "[encoded data removed]",
      "text/plain": [
       "<Figure size 432x288 with 1 Axes>"
      ]
     },
     "metadata": {
      "needs_background": "light"
     },
     "output_type": "display_data"
    }
   ],
   "source": [
    "#Alterando a cor\n",
    "df[\"Cidade\"].value_counts().plot.bar(title = \"Total de vendas por cidade\", color=\"red\")\n",
    "plt.xlabel(\"Cidade\")\n",
    "plt.ylabel(\"Total de vendas\")"
   ]
  },
  {
   "cell_type": "code",
   "execution_count": 60,
   "metadata": {},
   "outputs": [
    {
     "data": {
      "text/plain": [
       "<matplotlib.legend.Legend at 0x2b1284dfa0>"
      ]
     },
     "execution_count": 60,
     "metadata": {},
     "output_type": "execute_result"
    },
    {
     "data": {
      "image/png": "[encoded data removed]",
      "text/plain": [
       "<Figure size 432x288 with 1 Axes>"
      ]
     },
     "metadata": {},
     "output_type": "display_data"
    }
   ],
   "source": [
    "#Alterando o estilo (site matplotlib mostra todos os estilos disponíveis)\n",
    "plt.style.use(\"ggplot\")\n",
    "#Agrupei mês de venda, peguei a qtde de prod vendidos e passei uma soma\n",
    "#.plot() representa gráfico de linhas\n",
    "df.groupby(df[\"mesVenda\"])[\"Qtde\"].sum().plot(title = \"Total de produtos vendidos por mês\")\n",
    "plt.xlabel(\"Mês\")\n",
    "plt.ylabel(\"Total produtos vendidos\")\n",
    "plt.legend()"
   ]
  },
  {
   "cell_type": "code",
   "execution_count": 61,
   "metadata": {},
   "outputs": [],
   "source": [
    "#Selecionando apenas o ano de 2019\n",
    "df2019 = df[df[\"anoVenda\"]==2019]"
   ]
  },
  {
   "cell_type": "code",
   "execution_count": 62,
   "metadata": {},
   "outputs": [
    {
     "data": {
      "text/plain": [
       "<matplotlib.legend.Legend at 0x2b124baf40>"
      ]
     },
     "execution_count": 62,
     "metadata": {},
     "output_type": "execute_result"
    },
    {
     "data": {
      "image/png": "[encoded data removed]",
      "text/plain": [
       "<Figure size 432x288 with 1 Axes>"
      ]
     },
     "metadata": {},
     "output_type": "display_data"
    }
   ],
   "source": [
    "#Total de produtos vendidos por mÊs\n",
    "#Marker (marcador) v, o, *,....\n",
    "df2019.groupby(df2019[\"mesVenda\"])[\"Qtde\"].sum().plot(marker = \"v\")\n",
    "plt.xlabel(\"Mês\")\n",
    "plt.ylabel(\"Total produtos vendidos\")\n",
    "plt.legend()"
   ]
  },
  {
   "cell_type": "code",
   "execution_count": 63,
   "metadata": {},
   "outputs": [
    {
     "data": {
      "image/png": "[encoded data removed]",
      "text/plain": [
       "<Figure size 432x288 with 1 Axes>"
      ]
     },
     "metadata": {},
     "output_type": "display_data"
    }
   ],
   "source": [
    "#Histograma\n",
    "plt.hist(df[\"Qtde\"],color=\"magenta\");"
   ]
  },
  {
   "cell_type": "code",
   "execution_count": 64,
   "metadata": {},
   "outputs": [
    {
     "data": {
      "image/png": "[encoded data removed]",
      "text/plain": [
       "<Figure size 432x288 with 1 Axes>"
      ]
     },
     "metadata": {},
     "output_type": "display_data"
    }
   ],
   "source": [
    "plt.scatter(x=df2019[\"diaVenda\"],y = df2019[\"Receita\"]);"
   ]
  },
  {
   "cell_type": "code",
   "execution_count": 66,
   "metadata": {},
   "outputs": [
    {
     "data": {
      "image/png": "[encoded data removed]",
      "text/plain": [
       "<Figure size 432x288 with 1 Axes>"
      ]
     },
     "metadata": {},
     "output_type": "display_data"
    }
   ],
   "source": [
    "#Salvando em png\n",
    "df2019.groupby(df2019[\"mesVenda\"])[\"Qtde\"].sum().plot(marker = \"v\")\n",
    "plt.title(\"Quantidade de produtos vendidos / mês\")\n",
    "plt.xlabel(\"Mês\")\n",
    "plt.ylabel(\"Total de produtos vendidos\")\n",
    "plt.legend()\n",
    "plt.savefig(\"grafQtdeMes.png\")"
   ]
  }
 ],
 "metadata": {
  "kernelspec": {
   "display_name": "Python 3.9.7 ('base')",
   "language": "python",
   "name": "python3"
  },
  "language_info": {
   "codemirror_mode": {
    "name": "ipython",
    "version": 3
   },
   "file_extension": ".py",
   "mimetype": "text/x-python",
   "name": "python",
   "nbconvert_exporter": "python",
   "pygments_lexer": "ipython3",
   "version": "3.9.7"
  },
  "orig_nbformat": 4,
  "vscode": {
   "interpreter": {
    "hash": "d9313b9e1728627de9d52341e14aab43028aaf4655622e18c1992347e1df5784"
   }
  }
 },
 "nbformat": 4,
 "nbformat_minor": 2
}
